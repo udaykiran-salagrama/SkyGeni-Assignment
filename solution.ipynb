{
  "nbformat": 4,
  "nbformat_minor": 0,
  "metadata": {
    "colab": {
      "provenance": [],
      "include_colab_link": true
    },
    "kernelspec": {
      "name": "python3",
      "display_name": "Python 3"
    },
    "language_info": {
      "name": "python"
    }
  },
  "cells": [
    {
      "cell_type": "markdown",
      "metadata": {
        "id": "view-in-github",
        "colab_type": "text"
      },
      "source": [
        "<a href=\"https://colab.research.google.com/github/udaykiran-salagrama/SkyGeni-Assignment/blob/main/solution.ipynb\" target=\"_parent\"><img src=\"https://colab.research.google.com/assets/colab-badge.svg\" alt=\"Open In Colab\"/></a>"
      ]
    },
    {
      "cell_type": "code",
      "source": [
        "!pip install pandas\n",
        "import pandas as pd\n",
        "\n",
        "# Loading the provided data files\n",
        "subscription_df = pd.read_csv(\"subscription_information.csv\")\n",
        "payment_df = pd.read_csv(\"payment_information.csv\")\n",
        "industry_df = pd.read_csv(\"industry_client_details.csv\")\n",
        "financial_df = pd.read_csv(\"finanical_information.csv\")\n",
        "\n",
        "# Question 1: How many finance lending and blockchain clients does the organization have?\n",
        "finance_blockchain_clients = industry_df[industry_df['industry'].isin(['Finance Lending', 'Block Chain'])].shape[0]\n",
        "print(f\"Total Finance Lending and Blockchain Clients: {finance_blockchain_clients}\")\n",
        "\n",
        "# Question 2: Which industry in the organization has the highest renewal rate?\n",
        "# Merging subscription data with industry data using client_id\n",
        "merged_data = pd.merge(subscription_df, industry_df, on=\"client_id\", how=\"inner\")\n",
        "\n",
        "# Group by industry and calculate the renewal rate\n",
        "industry_renewal_rate = merged_data.groupby('industry')['renewed'].mean().reset_index()\n",
        "industry_highest_renewal = industry_renewal_rate.loc[industry_renewal_rate['renewed'].idxmax()]\n",
        "print(f\"Industry with the highest renewal rate: {industry_highest_renewal['industry']} with a rate of {industry_highest_renewal['renewed']:.2%}\")\n",
        "\n",
        "# Question 3: What was the average inflation rate when their subscriptions were renewed?\n",
        "# Filter the data for renewed subscriptions\n",
        "renewed_subscriptions = subscription_df[subscription_df['renewed'] == True].copy()\n",
        "\n",
        "# Convert end_date to datetime format\n",
        "renewed_subscriptions['end_date'] = pd.to_datetime(renewed_subscriptions['end_date'])\n",
        "financial_df['end_date'] = pd.to_datetime(financial_df['end_date'])\n",
        "\n",
        "# Merge renewed subscriptions with financial data on end_date to get corresponding inflation rates\n",
        "merged_financials = pd.merge(renewed_subscriptions, financial_df, on='end_date', how='left')\n",
        "average_inflation_rate = merged_financials['inflation_rate'].mean()\n",
        "print(f\"Average inflation rate at renewal: {average_inflation_rate:.2f}%\")\n",
        "\n",
        "# Question 4: What is the median amount paid each year for all payment methods?\n",
        "# Convert payment_date to datetime format and extract year\n",
        "payment_df['payment_date'] = pd.to_datetime(payment_df['payment_date'])\n",
        "payment_df['year'] = payment_df['payment_date'].dt.year\n",
        "\n",
        "# Calculate median amount paid per year\n",
        "median_payment_per_year = payment_df.groupby('year')['amount_paid'].median().reset_index()\n",
        "print(\"Median amount paid each year:\")\n",
        "print(median_payment_per_year)"
      ],
      "metadata": {
        "colab": {
          "base_uri": "https://localhost:8080/"
        },
        "id": "klJB84ff9AB9",
        "outputId": "1a04adfc-17e8-4894-becc-48754f0e0607"
      },
      "execution_count": 3,
      "outputs": [
        {
          "output_type": "stream",
          "name": "stdout",
          "text": [
            "Requirement already satisfied: pandas in /usr/local/lib/python3.11/dist-packages (2.2.2)\n",
            "Requirement already satisfied: numpy>=1.23.2 in /usr/local/lib/python3.11/dist-packages (from pandas) (2.0.2)\n",
            "Requirement already satisfied: python-dateutil>=2.8.2 in /usr/local/lib/python3.11/dist-packages (from pandas) (2.8.2)\n",
            "Requirement already satisfied: pytz>=2020.1 in /usr/local/lib/python3.11/dist-packages (from pandas) (2025.1)\n",
            "Requirement already satisfied: tzdata>=2022.7 in /usr/local/lib/python3.11/dist-packages (from pandas) (2025.1)\n",
            "Requirement already satisfied: six>=1.5 in /usr/local/lib/python3.11/dist-packages (from python-dateutil>=2.8.2->pandas) (1.17.0)\n",
            "Total Finance Lending and Blockchain Clients: 47\n",
            "Industry with the highest renewal rate: Gaming with a rate of 72.73%\n",
            "Average inflation rate at renewal: nan%\n",
            "Median amount paid each year:\n",
            "   year  amount_paid\n",
            "0  2018        235.7\n",
            "1  2019        360.9\n",
            "2  2020        284.5\n",
            "3  2021        306.8\n",
            "4  2022        288.0\n"
          ]
        }
      ]
    }
  ]
}