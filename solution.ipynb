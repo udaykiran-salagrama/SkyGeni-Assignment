!pip install pandas
import pandas as pd

# Loading the provided data files
subscription_df = pd.read_csv("subscription_information.csv")
payment_df = pd.read_csv("payment_information.csv")
industry_df = pd.read_csv("industry_client_details.csv")
financial_df = pd.read_csv("finanical_information.csv")

# Question 1: How many finance lending and blockchain clients does the organization have?
finance_blockchain_clients = industry_df[industry_df['industry'].isin(['Finance Lending', 'Block Chain'])].shape[0]
print(f"Total Finance Lending and Blockchain Clients: {finance_blockchain_clients}")

# Question 2: Which industry in the organization has the highest renewal rate?
# Merging subscription data with industry data using client_id
merged_data = pd.merge(subscription_df, industry_df, on="client_id", how="inner")

# Group by industry and calculate the renewal rate
industry_renewal_rate = merged_data.groupby('industry')['renewed'].mean().reset_index()
industry_highest_renewal = industry_renewal_rate.loc[industry_renewal_rate['renewed'].idxmax()]
print(f"Industry with the highest renewal rate: {industry_highest_renewal['industry']} with a rate of {industry_highest_renewal['renewed']:.2%}")

# Question 3: What was the average inflation rate when their subscriptions were renewed?
# Filter the data for renewed subscriptions
renewed_subscriptions = subscription_df[subscription_df['renewed'] == True].copy()

# Convert end_date to datetime format
renewed_subscriptions['end_date'] = pd.to_datetime(renewed_subscriptions['end_date'])
financial_df['end_date'] = pd.to_datetime(financial_df['end_date'])

# Merge renewed subscriptions with financial data on end_date to get corresponding inflation rates
merged_financials = pd.merge(renewed_subscriptions, financial_df, on='end_date', how='left')
average_inflation_rate = merged_financials['inflation_rate'].mean()
print(f"Average inflation rate at renewal: {average_inflation_rate:.2f}%")

# Question 4: What is the median amount paid each year for all payment methods? 
# Convert payment_date to datetime format and extract year
payment_df['payment_date'] = pd.to_datetime(payment_df['payment_date'])
payment_df['year'] = payment_df['payment_date'].dt.year

# Calculate median amount paid per year
median_payment_per_year = payment_df.groupby('year')['amount_paid'].median().reset_index()
print("Median amount paid each year:")
print(median_payment_per_year)


